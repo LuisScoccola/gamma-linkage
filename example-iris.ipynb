{
 "cells": [
  {
   "cell_type": "code",
   "execution_count": 8,
   "source": [
    "from linkage.linkage import *\n",
    "from vineyard import *\n",
    "import numpy as np\n",
    "from sklearn import datasets\n",
    "from sklearn import preprocessing\n",
    "from sklearn.metrics import confusion_matrix\n",
    "import seaborn as sns\n",
    "sns.set_theme()\n",
    "%matplotlib inline"
   ],
   "outputs": [],
   "metadata": {}
  },
  {
   "cell_type": "markdown",
   "source": [
    "We use gamma-linkage to discover the cluster structure of the Iris dataset\n",
    "\n",
    "Start by importing and normalizing the dataset"
   ],
   "metadata": {}
  },
  {
   "cell_type": "code",
   "execution_count": 2,
   "source": [
    "X = preprocessing.normalize(datasets.load_iris().data)\n",
    "\n",
    "x = MPSpace(X)\n",
    "x.fit()"
   ],
   "outputs": [],
   "metadata": {}
  },
  {
   "cell_type": "markdown",
   "source": [
    "We run the algorithm with several choices of curve to see the evolution of the cluster structure as we vary the parameter. We see that, when the k intercept is sufficiently large, there are three high persistence vines (the two most persistent vines have very similar prominence)."
   ],
   "metadata": {}
  },
  {
   "cell_type": "code",
   "execution_count": 14,
   "source": [
    "x0 = x.connection_radius()\n",
    "initial_k = 0.01\n",
    "final_k = 0.15\n",
    "N_PARAMETERS = 1000\n",
    "\n",
    "gammas = [ Gamma_curve.linear_interpolator_alpha_s_indexed(k, x0) for k in np.linspace(initial_k, final_k, num=N_PARAMETERS) ]\n",
    "PDs = [ x.gamma_linkage(curve).PD()[0] for curve in gammas ]"
   ],
   "outputs": [],
   "metadata": {}
  },
  {
   "cell_type": "code",
   "execution_count": 15,
   "source": [
    "kappa = 0.07\n",
    "tau = 0.004\n",
    "\n",
    "plotProminenceVineyard(PDs, N_PARAMETERS, initial_k, final_k, kappa = kappa, tau = tau, s = 10, y_lim = [0.0002,0.5])"
   ],
   "outputs": [
    {
     "output_type": "display_data",
     "data": {
      "image/png": "[encoded data removed]",
      "text/plain": [
       "<Figure size 216x144 with 1 Axes>"
      ]
     },
     "metadata": {
      "needs_background": "light"
     }
    }
   ],
   "metadata": {}
  },
  {
   "cell_type": "markdown",
   "source": [
    "We choose the k-intercept and the persistence threshold looking at the diagram above, and get three clusters.\n",
    "\n",
    "We compute the confusion matrix that compares the true labels to the clustering we computed. In the confusion matrix, the first column corresponds to noise points. We see that there is only one misclassified point, but many noise points that weren't assigned any cluster.\n",
    "\n",
    "We address this below by taking each noise point, considering its 5 closest neighbors that were assigned a cluster, and assigning the most common label among its neighbors."
   ],
   "metadata": {}
  },
  {
   "cell_type": "code",
   "execution_count": 22,
   "source": [
    "gamma = Gamma_curve.linear_interpolator_alpha_s_indexed(kappa, x0)\n",
    "hc = x.gamma_linkage(gamma)\n",
    "c = hc.persistence_based_flattening(threshold = tau)\n",
    "\n",
    "confusion_matrix(c[1],datasets.load_iris().target)"
   ],
   "outputs": [
    {
     "output_type": "execute_result",
     "data": {
      "text/plain": [
       "array([[ 0,  0, 23, 38],\n",
       "       [ 0,  0,  0, 11],\n",
       "       [ 0,  0, 27,  1],\n",
       "       [ 0, 50,  0,  0]])"
      ]
     },
     "metadata": {},
     "execution_count": 22
    }
   ],
   "metadata": {}
  },
  {
   "cell_type": "code",
   "execution_count": 40,
   "source": [
    "from sklearn.neighbors import KNeighborsClassifier\n",
    "\n",
    "def postProcessing(dataset, labels, k=5) :\n",
    "    neigh = KNeighborsClassifier(n_neighbors=k)\n",
    "    neigh.fit(dataset[labels!=-1], labels[labels!=-1])\n",
    "    res = labels.copy()\n",
    "    res[labels==-1] = neigh.predict(dataset[labels==-1,:])\n",
    "    return res\n",
    "\n",
    "confusion_matrix(postProcessing(X,c[1],5),datasets.load_iris().target)"
   ],
   "outputs": [
    {
     "output_type": "execute_result",
     "data": {
      "text/plain": [
       "array([[ 0,  2, 46],\n",
       "       [ 0, 48,  4],\n",
       "       [50,  0,  0]])"
      ]
     },
     "metadata": {},
     "execution_count": 40
    }
   ],
   "metadata": {
    "tags": []
   }
  },
  {
   "cell_type": "code",
   "execution_count": null,
   "source": [],
   "outputs": [],
   "metadata": {}
  }
 ],
 "metadata": {
  "kernelspec": {
   "name": "python3",
   "display_name": "Python 3.9.1 64-bit ('default': conda)"
  },
  "language_info": {
   "codemirror_mode": {
    "name": "ipython",
    "version": 3
   },
   "file_extension": ".py",
   "mimetype": "text/x-python",
   "name": "python",
   "nbconvert_exporter": "python",
   "pygments_lexer": "ipython3",
   "version": "3.9.1"
  },
  "interpreter": {
   "hash": "1d7bfa3f45a89b72bff2fc001a9f42bf5e981cdfdadd834857d0ab7a43cc0cd0"
  }
 },
 "nbformat": 4,
 "nbformat_minor": 4
}