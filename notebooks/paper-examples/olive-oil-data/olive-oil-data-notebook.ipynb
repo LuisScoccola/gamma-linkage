{
 "cells": [
  {
   "attachments": {},
   "cell_type": "markdown",
   "metadata": {},
   "source": [
    "# Olive oil data\n",
    "\n",
    "Using this notebook, it is possible to reproduce the clustering results on the olive oil data from the paper [Stable and consistent density-based clustering](https://arxiv.org/abs/2005.09048)."
   ]
  },
  {
   "cell_type": "code",
   "execution_count": 1,
   "metadata": {},
   "outputs": [],
   "source": [
    "import persistable\n",
    "import json\n",
    "import numpy as np\n",
    "import matplotlib.pyplot as plt\n",
    "import matplotlib\n",
    "from sklearn.metrics import confusion_matrix\n",
    "from sklearn.metrics import adjusted_rand_score"
   ]
  },
  {
   "attachments": {},
   "cell_type": "markdown",
   "metadata": {},
   "source": [
    "## Load data\n",
    "\n",
    "See the paper for references"
   ]
  },
  {
   "cell_type": "code",
   "execution_count": 2,
   "metadata": {},
   "outputs": [],
   "source": [
    "# olive_oil_scaled has been scaled by sklearn.preprocessing.StandardScaler\n",
    "# Each feature is independently centered to have mean zero and scaled to unit variance\n",
    "from olive_oil_data import olive_oil_scaled\n",
    "from olive_oil_data import olive_oil_regions\n",
    "from olive_oil_data import olive_oil_areas"
   ]
  },
  {
   "attachments": {},
   "cell_type": "markdown",
   "metadata": {},
   "source": [
    "## Reproduce the instance of the Persistable interactive mode from the paper\n",
    "\n",
    "### Basic usage of the Persistable interactive mode\n",
    "\n",
    "- Run the cell below to open the graphical user interface.\n",
    "- To see the Component Counting Function, click \"Compute\".\n",
    "- To see the Prominence Vineyard, in the box \"Interactive inputs selection\", choose \"Family of lines\". Now, one sees the two chosen lines that determine the Prominence Vineyard. Next, click \"Compute\" under \"Prominence Vineyard\".\n",
    "- To get a clustering, in the box \"Parameter selection\", choose \"On\".\n",
    "- To re-create the clustering in the paper, select Line number 15 and Gap number 3 or 8. Then click \"Choose parameter\".\n",
    "- To get the labels for this clustering, run the cell below the graphical user interface."
   ]
  },
  {
   "cell_type": "code",
   "execution_count": 3,
   "metadata": {},
   "outputs": [
    {
     "data": {
      "text/html": [
       "\n",
       "        <iframe\n",
       "            width=\"100%\"\n",
       "            height=\"1000\"\n",
       "            src=\"http://127.0.0.1:8050/\"\n",
       "            frameborder=\"0\"\n",
       "            allowfullscreen\n",
       "            \n",
       "        ></iframe>\n",
       "        "
      ],
      "text/plain": [
       "<IPython.lib.display.IFrame at 0x7feed9bb4700>"
      ]
     },
     "metadata": {},
     "output_type": "display_data"
    }
   ],
   "source": [
    "# to reproduce the instance of the Persistable interactive mode \n",
    "# from the paper, we load a state dictionary and pass it to start_ui\n",
    "\n",
    "with open('olive-oil-data-state.json', 'r') as fp:\n",
    "    state = json.load(fp)\n",
    "\n",
    "# create Persistable object\n",
    "p = persistable.Persistable(olive_oil_scaled, n_neighbors='all')\n",
    "\n",
    "# start UI\n",
    "pi = persistable.PersistableInteractive(p)\n",
    "port = pi.start_ui(ui_state=state, jupyter_mode='inline')"
   ]
  },
  {
   "cell_type": "code",
   "execution_count": 7,
   "metadata": {},
   "outputs": [],
   "source": [
    "# get clustering with parameters chosen via the interactive mode\n",
    "cluster_labels = pi.cluster()"
   ]
  },
  {
   "attachments": {},
   "cell_type": "markdown",
   "metadata": {},
   "source": [
    "## Comparing with region labels\n",
    "\n",
    "Choose Gap number 3 in the instance of the interactive mode launched above."
   ]
  },
  {
   "cell_type": "code",
   "execution_count": 6,
   "metadata": {},
   "outputs": [
    {
     "name": "stdout",
     "output_type": "stream",
     "text": [
      "Confusion matrix:\n",
      "[[  0   0   0   0]\n",
      " [ 30   0   0 293]\n",
      " [  1  97   0   0]\n",
      " [ 33   0 118   0]]\n",
      "adjusted rand index: 1.0\n",
      "percentage of data points clustered: 0.8881118881118881\n"
     ]
    }
   ],
   "source": [
    "# select labels to compare with\n",
    "true_labels = np.asarray(olive_oil_regions)\n",
    "\n",
    "# print confusion matrix\n",
    "print('Confusion matrix:')\n",
    "print(confusion_matrix(true_labels, cluster_labels))\n",
    "\n",
    "# print adjusted rand index, and percentage of data points clustered\n",
    "clustered_points = (cluster_labels >= 0)\n",
    "ari = adjusted_rand_score(true_labels[clustered_points], cluster_labels[clustered_points])\n",
    "pct_clustered = (np.sum(clustered_points) / true_labels.shape[0])\n",
    "print('adjusted rand index: ' + str(ari))\n",
    "print('percentage of data points clustered: ' + str(pct_clustered))"
   ]
  },
  {
   "attachments": {},
   "cell_type": "markdown",
   "metadata": {},
   "source": [
    "## Comparing with area labels\n",
    "\n",
    "Choose Gap number 8 in the instance of the interactive mode launched above."
   ]
  },
  {
   "cell_type": "code",
   "execution_count": 8,
   "metadata": {},
   "outputs": [
    {
     "name": "stdout",
     "output_type": "stream",
     "text": [
      "Confusion matrix:\n",
      "[[  0   0   0   0   0   0   0   0   0   0   0]\n",
      " [  0   0   0   0   0   0   0   0   0   0   0]\n",
      " [ 13   0   0   0   0   0   0   0  12   0   0]\n",
      " [ 48   0   0   7   1   0   0   0   0   0   0]\n",
      " [106   0   0   0 100   0   0   0   0   0   0]\n",
      " [ 33   0   0   0   0   0   0   0   3   0   0]\n",
      " [ 14   0  51   0   0   0   0   0   0   0   0]\n",
      " [ 14  19   0   0   0   0   0   0   0   0   0]\n",
      " [ 35   0   0   0   0  14   0   1   0   0   0]\n",
      " [ 21   0   0   0   0   0   0  29   0   0   0]\n",
      " [  9   0   0   0   0   0  42   0   0   0   0]]\n",
      "adjusted rand index: 0.98526786530503\n",
      "percentage of data points clustered: 0.48776223776223776\n"
     ]
    }
   ],
   "source": [
    "# select labels to compare with\n",
    "true_labels = np.asarray(olive_oil_areas)\n",
    "\n",
    "# print confusion matrix\n",
    "print('Confusion matrix:')\n",
    "print(confusion_matrix(true_labels, cluster_labels))\n",
    "\n",
    "# print adjusted rand index, and percentage of data points clustered\n",
    "clustered_points = (cluster_labels >= 0)\n",
    "ari = adjusted_rand_score(true_labels[clustered_points], cluster_labels[clustered_points])\n",
    "pct_clustered = (np.sum(clustered_points) / true_labels.shape[0])\n",
    "print('adjusted rand index: ' + str(ari))\n",
    "print('percentage of data points clustered: ' + str(pct_clustered))"
   ]
  },
  {
   "attachments": {},
   "cell_type": "markdown",
   "metadata": {},
   "source": [
    "### Using exhaustive persistence-based flattening to cluster more data points\n",
    "\n",
    "Again, choose Gap number 8 in the instance of the interactive mode launched above."
   ]
  },
  {
   "cell_type": "code",
   "execution_count": 9,
   "metadata": {},
   "outputs": [],
   "source": [
    "cluster_labels = pi.cluster(flattening_mode='exhaustive')"
   ]
  },
  {
   "cell_type": "code",
   "execution_count": 10,
   "metadata": {},
   "outputs": [
    {
     "name": "stdout",
     "output_type": "stream",
     "text": [
      "Confusion matrix:\n",
      "[[  0   0   0   0   0   0   0   0   0   0   0]\n",
      " [  0   0   0   0   0   0   0   0   0   0   0]\n",
      " [  2   0   0   0   0   0   2   0  21   0   0]\n",
      " [  2   0   0   0   3   0  50   1   0   0   0]\n",
      " [  9   0   0   0 196   0   1   0   0   0   0]\n",
      " [  3   0   0   0   7   0  20   0   6   0   0]\n",
      " [  0   0   0  65   0   0   0   0   0   0   0]\n",
      " [  0   0  31   2   0   0   0   0   0   0   0]\n",
      " [  7   0   0   0   0   2   0  41   0   0   0]\n",
      " [  3   0   0   0   0  47   0   0   0   0   0]\n",
      " [  1  48   0   0   0   0   0   2   0   0   0]]\n",
      "adjusted rand index: 0.8995112949478538\n",
      "percentage of data points clustered: 0.9527972027972028\n"
     ]
    }
   ],
   "source": [
    "# select labels to compare with\n",
    "true_labels = np.asarray(olive_oil_areas)\n",
    "\n",
    "# print confusion matrix\n",
    "print('Confusion matrix:')\n",
    "print(confusion_matrix(true_labels, cluster_labels))\n",
    "\n",
    "# print adjusted rand index, and percentage of data points clustered\n",
    "clustered_points = (cluster_labels >= 0)\n",
    "ari = adjusted_rand_score(true_labels[clustered_points], cluster_labels[clustered_points])\n",
    "pct_clustered = (np.sum(clustered_points) / true_labels.shape[0])\n",
    "print('adjusted rand index: ' + str(ari))\n",
    "print('percentage of data points clustered: ' + str(pct_clustered))"
   ]
  }
 ],
 "metadata": {
  "kernelspec": {
   "display_name": "persistable",
   "language": "python",
   "name": "python3"
  },
  "language_info": {
   "codemirror_mode": {
    "name": "ipython",
    "version": 3
   },
   "file_extension": ".py",
   "mimetype": "text/x-python",
   "name": "python",
   "nbconvert_exporter": "python",
   "pygments_lexer": "ipython3",
   "version": "3.9.13"
  },
  "orig_nbformat": 4
 },
 "nbformat": 4,
 "nbformat_minor": 2
}
