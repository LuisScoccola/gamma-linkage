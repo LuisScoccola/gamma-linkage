{
 "cells": [
  {
   "attachments": {},
   "cell_type": "markdown",
   "metadata": {},
   "source": [
    "# Rideshare data\n",
    "\n",
    "Using this notebook, it is possible to reproduce the clustering results on the Rideshare data from the paper [Stable and consistent density-based clustering](https://arxiv.org/abs/2005.09048)"
   ]
  },
  {
   "cell_type": "code",
   "execution_count": 1,
   "metadata": {},
   "outputs": [],
   "source": [
    "import persistable\n",
    "import numpy as np\n",
    "import pandas as pd\n",
    "import json\n",
    "import plotly.express as px\n",
    "from plotly.offline import plot"
   ]
  },
  {
   "attachments": {},
   "cell_type": "markdown",
   "metadata": {},
   "source": [
    "## Load data\n",
    "\n",
    "This file and other uber datasets are available from [FiveThirtyEight](https://github.com/fivethirtyeight/uber-tlc-foil-response)."
   ]
  },
  {
   "cell_type": "code",
   "execution_count": 2,
   "metadata": {},
   "outputs": [],
   "source": [
    "file_name = 'uber-tlc-foil-response-master/uber-trip-data/uber-raw-data-apr14.csv'\n",
    "rideshare_data = pd.read_csv(file_name).iloc[:,[1,2]]"
   ]
  },
  {
   "attachments": {},
   "cell_type": "markdown",
   "metadata": {},
   "source": [
    "## Cluster data near Laguardia airport\n",
    "\n",
    "As in the paper, we begin by examining a piece of the data, centered at Laguardia airport"
   ]
  },
  {
   "cell_type": "code",
   "execution_count": 3,
   "metadata": {},
   "outputs": [],
   "source": [
    "# coordinates of Laguardia airport from openstreetmap\n",
    "laguardia = [40.76933, -73.86738]\n",
    "\n",
    "# take all data points in a square centered at Laguardia\n",
    "x = 0.01\n",
    "condition = ((rideshare_data.iloc[:,0] < laguardia[0] + x) & \n",
    "             (rideshare_data.iloc[:,0] > laguardia[0] - x) &\n",
    "             (rideshare_data.iloc[:,1] < laguardia[1] + x) & \n",
    "             (rideshare_data.iloc[:,1] > laguardia[1] - x))\n",
    "\n",
    "laguardia_data = rideshare_data.iloc[condition.values,:]"
   ]
  },
  {
   "attachments": {},
   "cell_type": "markdown",
   "metadata": {},
   "source": [
    "### Optional: plot data"
   ]
  },
  {
   "cell_type": "code",
   "execution_count": 5,
   "metadata": {},
   "outputs": [
    {
     "data": {
      "text/plain": [
       "'temp-plot.html'"
      ]
     },
     "execution_count": 5,
     "metadata": {},
     "output_type": "execute_result"
    }
   ],
   "source": [
    "# optional: plot data using plotly.express\n",
    "\n",
    "fig = px.scatter_mapbox(laguardia_data, lat='Lat', lon='Lon', opacity=0.5, \n",
    "                        zoom=14, mapbox_style='open-street-map')\n",
    "plot(fig, auto_open=True)"
   ]
  },
  {
   "attachments": {},
   "cell_type": "markdown",
   "metadata": {},
   "source": [
    "## Reproduce clusterings from the paper"
   ]
  },
  {
   "cell_type": "code",
   "execution_count": 4,
   "metadata": {},
   "outputs": [],
   "source": [
    "# create Persistable object\n",
    "p = persistable.Persistable(np.asarray(laguardia_data), n_neighbors=100)"
   ]
  },
  {
   "cell_type": "code",
   "execution_count": 6,
   "metadata": {},
   "outputs": [],
   "source": [
    "# re-produce result with 8 clusters\n",
    "\n",
    "params = {'n_clusters': 8, \n",
    "          'start': [0.00011, 0.003890201862691098], \n",
    "          'end': [0.0007106512662005413, 0.0003693533211186369]}\n",
    "\n",
    "cluster_labels = p.cluster(params['n_clusters'], params['start'], params['end'])"
   ]
  },
  {
   "cell_type": "code",
   "execution_count": 12,
   "metadata": {},
   "outputs": [
    {
     "data": {
      "text/plain": [
       "'temp-plot.html'"
      ]
     },
     "execution_count": 12,
     "metadata": {},
     "output_type": "execute_result"
    }
   ],
   "source": [
    "# plot clustering of the Laguardia data using plotly.express\n",
    "\n",
    "laguardia_data_clustered = laguardia_data.assign(cluster=cluster_labels)\n",
    "laguardia_data_clustered = laguardia_data_clustered.astype({'cluster':'str'})\n",
    "\n",
    "# pick color scheme\n",
    "labels = [str(i) for i in range(-1, np.amax(cluster_labels)+1)]\n",
    "category_orders={'cluster' : labels}\n",
    "N = len(px.colors.qualitative.Vivid)\n",
    "color_sequence = ['rgb(105, 105, 105)'] # dark grey for noise points\n",
    "for i in range(np.amax(cluster_labels) + 1):\n",
    "    color_sequence.append(px.colors.qualitative.Vivid[i % (N - 1)]) # skip the last color in Vivid since it's grey\n",
    "\n",
    "fig = px.scatter_mapbox(laguardia_data_clustered, lat='Lat', lon='Lon', \n",
    "                        color='cluster', category_orders=category_orders, \n",
    "                        color_discrete_sequence=color_sequence, \n",
    "                        zoom=14, mapbox_style='open-street-map')\n",
    "plot(fig, auto_open=True)"
   ]
  },
  {
   "cell_type": "code",
   "execution_count": 8,
   "metadata": {},
   "outputs": [],
   "source": [
    "# re-produce result with 4 clusters\n",
    "\n",
    "params = {'n_clusters': 4, \n",
    "          'start': [0.00011, 0.003890201862691098], \n",
    "          'end': [0.0007106512662005413, 0.0003693533211186369]}\n",
    "\n",
    "cluster_labels = p.cluster(params['n_clusters'], params['start'], params['end'])"
   ]
  },
  {
   "attachments": {},
   "cell_type": "markdown",
   "metadata": {},
   "source": [
    "## Reproduce the instance of the Persistable interactive mode from the paper\n",
    "\n",
    "### Basic usage of the Persistable interactive mode\n",
    "\n",
    "- Run the cell below to open the graphical user interface.\n",
    "- To see the Component Counting Function, click \"Compute\".\n",
    "- To see the Prominence Vineyard, in the box \"Interactive inputs selection\", choose \"Family of lines\". Now, one sees the two chosen lines that determine the Prominence Vineyard. Next, click \"Compute\" under \"Prominence Vineyard\".\n",
    "- To get a clustering, in the box \"Parameter selection\", choose \"On\".\n",
    "- To re-create the clusterings in the paper, select Line number 37, and Gap number 4 or 8. Then click \"Choose parameter\".\n",
    "- To get the labels for this clustering, run the cell below the graphical user interface."
   ]
  },
  {
   "cell_type": "code",
   "execution_count": 10,
   "metadata": {},
   "outputs": [
    {
     "data": {
      "text/html": [
       "\n",
       "        <iframe\n",
       "            width=\"100%\"\n",
       "            height=\"1000\"\n",
       "            src=\"http://127.0.0.1:8050/\"\n",
       "            frameborder=\"0\"\n",
       "            allowfullscreen\n",
       "            \n",
       "        ></iframe>\n",
       "        "
      ],
      "text/plain": [
       "<IPython.lib.display.IFrame at 0x7f3eb4de4c10>"
      ]
     },
     "metadata": {},
     "output_type": "display_data"
    }
   ],
   "source": [
    "# to reproduce the instance of the Persistable interactive mode \n",
    "# from the paper, we load a state dictionary and pass it to start_ui\n",
    "\n",
    "with open('laguardia_state.json', 'r') as fp:\n",
    "    state = json.load(fp)\n",
    "\n",
    "# start UI\n",
    "pi = persistable.PersistableInteractive(p)\n",
    "port = pi.start_ui(ui_state=state, jupyter_mode='inline')"
   ]
  },
  {
   "cell_type": "code",
   "execution_count": 11,
   "metadata": {},
   "outputs": [],
   "source": [
    "# get clustering with parameters chosen via the interactive mode\n",
    "cluster_labels = pi.cluster()"
   ]
  },
  {
   "attachments": {},
   "cell_type": "markdown",
   "metadata": {},
   "source": [
    "#### Optional: cluster with hdbscan"
   ]
  },
  {
   "cell_type": "code",
   "execution_count": null,
   "metadata": {},
   "outputs": [],
   "source": [
    "import hdbscan"
   ]
  },
  {
   "cell_type": "code",
   "execution_count": null,
   "metadata": {},
   "outputs": [],
   "source": [
    "clusterer = hdbscan.HDBSCAN(min_cluster_size=50, min_samples=50)\n",
    "clusterer.fit(laguardia_data)\n",
    "cluster_labels = clusterer.labels_"
   ]
  },
  {
   "attachments": {},
   "cell_type": "markdown",
   "metadata": {},
   "source": [
    "## Cluster the whole dataset\n",
    "\n"
   ]
  },
  {
   "attachments": {},
   "cell_type": "markdown",
   "metadata": {},
   "source": [
    "### Optional: plot data"
   ]
  },
  {
   "cell_type": "code",
   "execution_count": 13,
   "metadata": {},
   "outputs": [
    {
     "data": {
      "text/plain": [
       "'temp-plot.html'"
      ]
     },
     "execution_count": 13,
     "metadata": {},
     "output_type": "execute_result"
    }
   ],
   "source": [
    "# optional: plot data using plotly.express\n",
    "\n",
    "fig = px.scatter_mapbox(rideshare_data, lat='Lat', lon='Lon', opacity=0.1, \n",
    "                        zoom=9, mapbox_style='open-street-map')\n",
    "plot(fig, auto_open=True)"
   ]
  },
  {
   "attachments": {},
   "cell_type": "markdown",
   "metadata": {},
   "source": [
    "## Reproduce clusterings from the paper"
   ]
  },
  {
   "cell_type": "code",
   "execution_count": 13,
   "metadata": {},
   "outputs": [],
   "source": [
    "# create Persistable object, \n",
    "# using a subsample of 30 000 points to speed up computation\n",
    "p_rideshare = persistable.Persistable(np.asarray(rideshare_data), \n",
    "                                      subsample=30000, n_neighbors=200)"
   ]
  },
  {
   "cell_type": "code",
   "execution_count": 14,
   "metadata": {},
   "outputs": [],
   "source": [
    "# re-produce clustering of the rideshare data from the paper,\n",
    "# with persistence-based flattening\n",
    "\n",
    "params = {'n_clusters': 10, \n",
    "          'start': [0, 0.0038], \n",
    "          'end': [0.005, 0]}\n",
    "\n",
    "cluster_labels = p_rideshare.cluster(params['n_clusters'], \n",
    "                                     params['start'], \n",
    "                                     params['end'])"
   ]
  },
  {
   "cell_type": "code",
   "execution_count": 16,
   "metadata": {},
   "outputs": [],
   "source": [
    "# re-produce clustering of the rideshare data from the paper,\n",
    "# with exhaustive persistence-based flattening\n",
    "\n",
    "params = {'n_clusters': 10, \n",
    "          'start': [0, 0.0038], \n",
    "          'end': [0.005, 0]}\n",
    "\n",
    "cluster_labels = p_rideshare.cluster(params['n_clusters'], \n",
    "                                     params['start'], \n",
    "                                     params['end'], \n",
    "                                     flattening_mode='exhaustive')"
   ]
  },
  {
   "cell_type": "code",
   "execution_count": 17,
   "metadata": {},
   "outputs": [
    {
     "data": {
      "text/plain": [
       "'temp-plot.html'"
      ]
     },
     "execution_count": 17,
     "metadata": {},
     "output_type": "execute_result"
    }
   ],
   "source": [
    "# plot clustering of the rideshare data using plotly.express\n",
    "\n",
    "rideshare_data_clustered = rideshare_data.assign(cluster=cluster_labels)\n",
    "rideshare_data_clustered = rideshare_data_clustered.astype({'cluster':'str'})\n",
    "\n",
    "# pick color scheme\n",
    "labels = [str(i) for i in range(-1, np.amax(cluster_labels)+1)]\n",
    "category_orders={'cluster' : labels}\n",
    "N = len(px.colors.qualitative.Vivid)\n",
    "color_sequence = ['rgb(105, 105, 105)'] # dark grey for noise points\n",
    "for i in range(np.amax(cluster_labels) + 1):\n",
    "    color_sequence.append(px.colors.qualitative.Vivid[i % (N - 1)]) # skip the last color in Vivid since it's grey\n",
    "\n",
    "fig = px.scatter_mapbox(rideshare_data_clustered, lat='Lat', lon='Lon', \n",
    "                        color='cluster', category_orders=category_orders, \n",
    "                        color_discrete_sequence=color_sequence, \n",
    "                        zoom=9, mapbox_style='open-street-map')\n",
    "plot(fig, auto_open=True)"
   ]
  },
  {
   "cell_type": "code",
   "execution_count": 18,
   "metadata": {},
   "outputs": [],
   "source": [
    "# re-produce finer clustering of the rideshare data mentioned in the paper.\n",
    "\n",
    "params = {'n_clusters': 27, \n",
    "          'start': [0.0, 0.0034508474576271184], \n",
    "          'end': [0.003254237288135593, 0.0]}\n",
    "\n",
    "cluster_labels = p_rideshare.cluster(params['n_clusters'], \n",
    "                                     params['start'], \n",
    "                                     params['end'])"
   ]
  },
  {
   "attachments": {},
   "cell_type": "markdown",
   "metadata": {},
   "source": [
    "## Reproduce the instance of the Persistable interactive mode from the paper\n",
    "\n",
    "### Basic usage of the Persistable interactive mode\n",
    "\n",
    "- Run the cell below to open the graphical user interface.\n",
    "- To see the Component Counting Function, click \"Compute\".\n",
    "- To see the Prominence Vineyard, in the box \"Interactive inputs selection\", choose \"Family of lines\". Now, one sees the two chosen lines that determine the Prominence Vineyard. Next, click \"Compute\" under \"Prominence Vineyard\".\n",
    "- To get a clustering, in the box \"Parameter selection\", choose \"On\".\n",
    "- To re-create the clusterings in the paper, select Line number 40, and Gap number 10. Then click \"Choose parameter\". To get the finer result, select Line number 6 and gap 27.\n",
    "- To get the labels for this clustering, run the cell below the graphical user interface."
   ]
  },
  {
   "cell_type": "code",
   "execution_count": 18,
   "metadata": {},
   "outputs": [
    {
     "data": {
      "text/html": [
       "\n",
       "        <iframe\n",
       "            width=\"100%\"\n",
       "            height=\"1000\"\n",
       "            src=\"http://127.0.0.1:8051/\"\n",
       "            frameborder=\"0\"\n",
       "            allowfullscreen\n",
       "            \n",
       "        ></iframe>\n",
       "        "
      ],
      "text/plain": [
       "<IPython.lib.display.IFrame at 0x7f3eb4183f10>"
      ]
     },
     "metadata": {},
     "output_type": "display_data"
    }
   ],
   "source": [
    "# to reproduce the instance of the Persistable interactive mode \n",
    "# from the paper, we load a state dictionary and pass it to start_ui\n",
    "\n",
    "with open('rideshare_state.json', 'r') as fp:\n",
    "    state = json.load(fp)\n",
    "\n",
    "# start UI\n",
    "pi_rideshare = persistable.PersistableInteractive(p_rideshare)\n",
    "port = pi_rideshare.start_ui(ui_state=state, jupyter_mode='inline')"
   ]
  },
  {
   "cell_type": "code",
   "execution_count": 19,
   "metadata": {},
   "outputs": [],
   "source": [
    "# get clustering with parameters chosen via the interactive mode\n",
    "cluster_labels = pi_rideshare.cluster()"
   ]
  }
 ],
 "metadata": {
  "kernelspec": {
   "display_name": "persistable",
   "language": "python",
   "name": "python3"
  },
  "language_info": {
   "codemirror_mode": {
    "name": "ipython",
    "version": 3
   },
   "file_extension": ".py",
   "mimetype": "text/x-python",
   "name": "python",
   "nbconvert_exporter": "python",
   "pygments_lexer": "ipython3",
   "version": "3.9.13"
  },
  "orig_nbformat": 4
 },
 "nbformat": 4,
 "nbformat_minor": 2
}
