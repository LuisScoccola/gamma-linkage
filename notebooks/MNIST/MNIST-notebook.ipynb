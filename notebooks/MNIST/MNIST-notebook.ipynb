{
 "cells": [
  {
   "attachments": {},
   "cell_type": "markdown",
   "metadata": {},
   "source": [
    "# MNIST data\n",
    "\n",
    "We cluster the MNIST data set with Persistable. Using the interactive mode, it's easy to identify the basic cluster structure in the data, and find parameters that lead to a clustering that match the labels well.\n",
    "\n",
    "Importantly, we pre-process the data using the UMAP dimensionality reduction algorithm, following [Leland McInnes' notebook Clustering evaluation on high dimensional data](https://gist.github.com/lmcinnes)."
   ]
  },
  {
   "cell_type": "code",
   "execution_count": 1,
   "metadata": {},
   "outputs": [
    {
     "name": "stderr",
     "output_type": "stream",
     "text": [
      "/home/rolle/anaconda3/envs/persistable/lib/python3.9/site-packages/tqdm/auto.py:21: TqdmWarning: IProgress not found. Please update jupyter and ipywidgets. See https://ipywidgets.readthedocs.io/en/stable/user_install.html\n",
      "  from .autonotebook import tqdm as notebook_tqdm\n"
     ]
    }
   ],
   "source": [
    "import persistable\n",
    "import umap\n",
    "import numpy as np\n",
    "import json\n",
    "from sklearn.datasets import fetch_openml\n",
    "from sklearn.metrics import adjusted_rand_score\n",
    "from sklearn.metrics import confusion_matrix"
   ]
  },
  {
   "attachments": {},
   "cell_type": "markdown",
   "metadata": {},
   "source": [
    "## Load data"
   ]
  },
  {
   "cell_type": "code",
   "execution_count": 2,
   "metadata": {},
   "outputs": [],
   "source": [
    "mnist = fetch_openml(\"MNIST_784\")\n",
    "raw_mnist = mnist.data.astype(np.float32)"
   ]
  },
  {
   "attachments": {},
   "cell_type": "markdown",
   "metadata": {},
   "source": [
    "## Apply UMAP to reduce the dimensionality of the data\n",
    "\n",
    "This may take a few minutes"
   ]
  },
  {
   "cell_type": "code",
   "execution_count": 3,
   "metadata": {},
   "outputs": [],
   "source": [
    "umap_mnist = umap.UMAP(n_neighbors=10, n_components=4, min_dist=1e-8, \n",
    "                       random_state=42, n_epochs=500).fit_transform(raw_mnist)"
   ]
  },
  {
   "attachments": {},
   "cell_type": "markdown",
   "metadata": {},
   "source": [
    "## Launch an instance of the Persistable interactive mode with pre-chosen settings\n",
    "\n",
    "We played around with the parameters of the Component Counting Function and Prominence Vineyard to find settings that do a nice job of identifying cluster structure in MNIST. Feel free to adjust these settings to see the data from different points of view.\n",
    "\n",
    "### Basic usage of the Persistable interactive mode\n",
    "\n",
    "- Run the cell below to open the graphical user interface.\n",
    "- To see the Component Counting Function, click \"Compute\".\n",
    "- To see the Prominence Vineyard, in the box \"Interactive inputs selection\", choose \"Family of lines\". Now, one sees the two chosen lines that determine the Prominence Vineyard. Next, click \"Compute\" under \"Prominence Vineyard\".\n",
    "- To get a clustering, in the box \"Parameter selection\", choose \"On\".\n",
    "- To get a clustering that matches the MNIST labels reasonably well, select Gap number 10. Then click \"Choose parameter\".\n",
    "- To get the labels for this clustering, run the cell below the graphical user interface."
   ]
  },
  {
   "cell_type": "code",
   "execution_count": 4,
   "metadata": {},
   "outputs": [
    {
     "data": {
      "text/html": [
       "\n",
       "        <iframe\n",
       "            width=\"100%\"\n",
       "            height=\"1000\"\n",
       "            src=\"http://127.0.0.1:8050/\"\n",
       "            frameborder=\"0\"\n",
       "            allowfullscreen\n",
       "            \n",
       "        ></iframe>\n",
       "        "
      ],
      "text/plain": [
       "<IPython.lib.display.IFrame at 0x7fe9cf6ffeb0>"
      ]
     },
     "metadata": {},
     "output_type": "display_data"
    }
   ],
   "source": [
    "# load a state dictionary to pass to start_ui\n",
    "with open('MNIST-state.json', 'r') as fp:\n",
    "    state = json.load(fp)\n",
    "\n",
    "# create Persistable object\n",
    "p = persistable.Persistable(umap_mnist, subsample=10000, n_neighbors=500)\n",
    "\n",
    "# start UI\n",
    "pi = persistable.PersistableInteractive(p)\n",
    "port = pi.start_ui(ui_state=state, jupyter_mode='inline')"
   ]
  },
  {
   "cell_type": "code",
   "execution_count": 5,
   "metadata": {},
   "outputs": [],
   "source": [
    "# get clustering with parameters chosen via the interactive mode\n",
    "cluster_labels = pi.cluster()"
   ]
  },
  {
   "attachments": {},
   "cell_type": "markdown",
   "metadata": {},
   "source": [
    "## Comparing with MNIST labels"
   ]
  },
  {
   "cell_type": "code",
   "execution_count": 6,
   "metadata": {},
   "outputs": [
    {
     "name": "stdout",
     "output_type": "stream",
     "text": [
      "adjusted rand index: 0.9390434332763671\n",
      "percentage of data points clustered: 0.9397285714285715\n",
      "Confusion matrix:\n",
      "[[   0    2    3    0    2    5    6    7   25 6846]\n",
      " [   0    2    0    1    2   14 7797   31    4    1]\n",
      " [   3    5    3   22   14  123   47 6714   11   41]\n",
      " [   1   23   57 6550   43   44    9   41    4    2]\n",
      " [5143   73    0    1    2   12   45    4   25    5]\n",
      " [   5   19 5192   54   15    6    1   16   71   17]\n",
      " [   6    0   28    0    1    0   16    3 6795   24]\n",
      " [   8   56    0    0    1 7095   75   22    0    2]\n",
      " [  11   48   64   79 6253   29   77   15   31   14]\n",
      " [  30 5539    8   85   13  103   14    6    4   15]]\n"
     ]
    }
   ],
   "source": [
    "# get indices of points clustered by Persistable\n",
    "clustered_points = (cluster_labels >= 0)\n",
    "\n",
    "# print adjusted rand index, and percentage of data points clustered\n",
    "ari = adjusted_rand_score(mnist.target[clustered_points], cluster_labels[clustered_points])\n",
    "pct_clustered = (np.sum(clustered_points) / mnist.target.shape[0])\n",
    "print('adjusted rand index: ' + str(ari))\n",
    "print('percentage of data points clustered: ' + str(pct_clustered))\n",
    "\n",
    "# print confusion matrix\n",
    "print('Confusion matrix:')\n",
    "print(confusion_matrix(mnist.target.astype(np.int16)[clustered_points], cluster_labels[clustered_points]))"
   ]
  }
 ],
 "metadata": {
  "kernelspec": {
   "display_name": "persistable",
   "language": "python",
   "name": "python3"
  },
  "language_info": {
   "codemirror_mode": {
    "name": "ipython",
    "version": 3
   },
   "file_extension": ".py",
   "mimetype": "text/x-python",
   "name": "python",
   "nbconvert_exporter": "python",
   "pygments_lexer": "ipython3",
   "version": "3.9.13"
  },
  "orig_nbformat": 4
 },
 "nbformat": 4,
 "nbformat_minor": 2
}
